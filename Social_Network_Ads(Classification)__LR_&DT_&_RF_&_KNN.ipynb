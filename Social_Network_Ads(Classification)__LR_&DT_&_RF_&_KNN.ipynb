{
  "nbformat": 4,
  "nbformat_minor": 0,
  "metadata": {
    "kernelspec": {
      "display_name": "Python 3",
      "language": "python",
      "name": "python3"
    },
    "language_info": {
      "codemirror_mode": {
        "name": "ipython",
        "version": 3
      },
      "file_extension": ".py",
      "mimetype": "text/x-python",
      "name": "python",
      "nbconvert_exporter": "python",
      "pygments_lexer": "ipython3",
      "version": "3.7.3"
    },
    "colab": {
      "name": "Social_Network_Ads(Classification)__LR &DT & RF & KNN.ipynb",
      "provenance": [],
      "include_colab_link": true
    }
  },
  "cells": [
    {
      "cell_type": "markdown",
      "metadata": {
        "id": "view-in-github",
        "colab_type": "text"
      },
      "source": [
        "<a href=\"https://colab.research.google.com/github/RKR01997/Social_Network_Ads-Classification-/blob/main/Social_Network_Ads(Classification)__LR_%26DT_%26_RF_%26_KNN.ipynb\" target=\"_parent\"><img src=\"https://colab.research.google.com/assets/colab-badge.svg\" alt=\"Open In Colab\"/></a>"
      ]
    },
    {
      "cell_type": "markdown",
      "metadata": {
        "id": "pgZy-ArbnBqB"
      },
      "source": [
        "#### Social_Network_Ads ML Exercise\n",
        "\n",
        "1) Read the dataset 'Social_Network_Ads.csv'<br>\n",
        "2) Remove/handle null values<br>\n",
        "3) Considering 'Age' and 'Estimated Salary' as input features and 'Purchased' as output feature, generate the following models after splitting the dataset into training and test dataset with test_size as 25%.<br>\n",
        "a) Logistic Regression <br>\n",
        "b) Decision Tree <br>\n",
        "c) RandomForest <br>\n",
        "d) KNN<br>\n",
        "and predict the Purchased class label.<br>\n",
        "4) Generate confusion matrix and classification report for each of these models.<br> \n",
        "5) Compute Accuracy score for each of these models.<br>\n",
        "6) Scale the input features using feature Scaling and then repeat question 3, 4 and 5<br>"
      ]
    },
    {
      "cell_type": "code",
      "metadata": {
        "id": "PdQKnxdUnBqD"
      },
      "source": [
        "import pandas as pd\n",
        "import numpy as np\n",
        "import matplotlib.pyplot as plt"
      ],
      "execution_count": null,
      "outputs": []
    },
    {
      "cell_type": "code",
      "metadata": {
        "id": "21K8CWLenP3w"
      },
      "source": [
        "df=pd.read_csv('/content/Social_Network_Ads.csv')"
      ],
      "execution_count": null,
      "outputs": []
    },
    {
      "cell_type": "code",
      "metadata": {
        "colab": {
          "base_uri": "https://localhost:8080/",
          "height": 202
        },
        "id": "y6cNtOthnVjn",
        "outputId": "d6c55b71-7d0f-4c7f-ebb2-a6311164cbf8"
      },
      "source": [
        "df.head()"
      ],
      "execution_count": null,
      "outputs": [
        {
          "output_type": "execute_result",
          "data": {
            "text/html": [
              "<div>\n",
              "<style scoped>\n",
              "    .dataframe tbody tr th:only-of-type {\n",
              "        vertical-align: middle;\n",
              "    }\n",
              "\n",
              "    .dataframe tbody tr th {\n",
              "        vertical-align: top;\n",
              "    }\n",
              "\n",
              "    .dataframe thead th {\n",
              "        text-align: right;\n",
              "    }\n",
              "</style>\n",
              "<table border=\"1\" class=\"dataframe\">\n",
              "  <thead>\n",
              "    <tr style=\"text-align: right;\">\n",
              "      <th></th>\n",
              "      <th>User ID</th>\n",
              "      <th>Gender</th>\n",
              "      <th>Age</th>\n",
              "      <th>EstimatedSalary</th>\n",
              "      <th>Purchased</th>\n",
              "    </tr>\n",
              "  </thead>\n",
              "  <tbody>\n",
              "    <tr>\n",
              "      <th>0</th>\n",
              "      <td>15624510</td>\n",
              "      <td>Male</td>\n",
              "      <td>19</td>\n",
              "      <td>19000</td>\n",
              "      <td>0</td>\n",
              "    </tr>\n",
              "    <tr>\n",
              "      <th>1</th>\n",
              "      <td>15810944</td>\n",
              "      <td>Male</td>\n",
              "      <td>35</td>\n",
              "      <td>20000</td>\n",
              "      <td>0</td>\n",
              "    </tr>\n",
              "    <tr>\n",
              "      <th>2</th>\n",
              "      <td>15668575</td>\n",
              "      <td>Female</td>\n",
              "      <td>26</td>\n",
              "      <td>43000</td>\n",
              "      <td>0</td>\n",
              "    </tr>\n",
              "    <tr>\n",
              "      <th>3</th>\n",
              "      <td>15603246</td>\n",
              "      <td>Female</td>\n",
              "      <td>27</td>\n",
              "      <td>57000</td>\n",
              "      <td>0</td>\n",
              "    </tr>\n",
              "    <tr>\n",
              "      <th>4</th>\n",
              "      <td>15804002</td>\n",
              "      <td>Male</td>\n",
              "      <td>19</td>\n",
              "      <td>76000</td>\n",
              "      <td>0</td>\n",
              "    </tr>\n",
              "  </tbody>\n",
              "</table>\n",
              "</div>"
            ],
            "text/plain": [
              "    User ID  Gender  Age  EstimatedSalary  Purchased\n",
              "0  15624510    Male   19            19000          0\n",
              "1  15810944    Male   35            20000          0\n",
              "2  15668575  Female   26            43000          0\n",
              "3  15603246  Female   27            57000          0\n",
              "4  15804002    Male   19            76000          0"
            ]
          },
          "metadata": {},
          "execution_count": 4
        }
      ]
    },
    {
      "cell_type": "code",
      "metadata": {
        "id": "2pp-0DPPoexZ"
      },
      "source": [
        "from sklearn.preprocessing import LabelEncoder\n",
        "le=LabelEncoder()"
      ],
      "execution_count": null,
      "outputs": []
    },
    {
      "cell_type": "code",
      "metadata": {
        "id": "4CKkG6TyokV5"
      },
      "source": [
        "df['Gender']=le.fit_transform(df['Gender'])"
      ],
      "execution_count": null,
      "outputs": []
    },
    {
      "cell_type": "code",
      "metadata": {
        "colab": {
          "base_uri": "https://localhost:8080/"
        },
        "id": "3HsTZHZ7neW6",
        "outputId": "d246a564-9362-4b32-e3de-900e60c63ee3"
      },
      "source": [
        "df.shape"
      ],
      "execution_count": null,
      "outputs": [
        {
          "output_type": "execute_result",
          "data": {
            "text/plain": [
              "(400, 5)"
            ]
          },
          "metadata": {},
          "execution_count": 17
        }
      ]
    },
    {
      "cell_type": "code",
      "metadata": {
        "colab": {
          "base_uri": "https://localhost:8080/"
        },
        "id": "tp6vlS3wnoa0",
        "outputId": "6f613f9e-2bdb-4b37-e020-5f60f0dca8a5"
      },
      "source": [
        "df.isnull().sum()"
      ],
      "execution_count": null,
      "outputs": [
        {
          "output_type": "execute_result",
          "data": {
            "text/plain": [
              "User ID            0\n",
              "Gender             0\n",
              "Age                0\n",
              "EstimatedSalary    0\n",
              "Purchased          0\n",
              "dtype: int64"
            ]
          },
          "metadata": {},
          "execution_count": 18
        }
      ]
    },
    {
      "cell_type": "code",
      "metadata": {
        "id": "WGf5blwEnzcn"
      },
      "source": [
        "x=df.iloc[:,:-1]\n",
        "y=df.iloc[:,-1]"
      ],
      "execution_count": null,
      "outputs": []
    },
    {
      "cell_type": "code",
      "metadata": {
        "id": "6ox_OcRxn8fK"
      },
      "source": [
        "from sklearn.model_selection import train_test_split\n",
        "\n",
        "x_train,x_test,y_train,y_test=train_test_split(x,y,test_size=.25)"
      ],
      "execution_count": null,
      "outputs": []
    },
    {
      "cell_type": "markdown",
      "metadata": {
        "id": "flXIxo7_rNCU"
      },
      "source": [
        "**Logistic Regression**"
      ]
    },
    {
      "cell_type": "code",
      "metadata": {
        "colab": {
          "base_uri": "https://localhost:8080/"
        },
        "id": "vnELDOV-oJIP",
        "outputId": "12d71c5c-4a42-4d9f-b9bd-3d1dddf5036a"
      },
      "source": [
        "from sklearn.linear_model import LogisticRegression\n",
        "\n",
        "mod=LogisticRegression()\n",
        "mod.fit(x_train,y_train)"
      ],
      "execution_count": null,
      "outputs": [
        {
          "output_type": "execute_result",
          "data": {
            "text/plain": [
              "LogisticRegression(C=1.0, class_weight=None, dual=False, fit_intercept=True,\n",
              "                   intercept_scaling=1, l1_ratio=None, max_iter=100,\n",
              "                   multi_class='auto', n_jobs=None, penalty='l2',\n",
              "                   random_state=None, solver='lbfgs', tol=0.0001, verbose=0,\n",
              "                   warm_start=False)"
            ]
          },
          "metadata": {},
          "execution_count": 33
        }
      ]
    },
    {
      "cell_type": "code",
      "metadata": {
        "colab": {
          "base_uri": "https://localhost:8080/"
        },
        "id": "kqp1tSwyoTvM",
        "outputId": "f2ba3e3e-8e0b-47cd-a3e7-5a465776257b"
      },
      "source": [
        "print(mod.score(x_test,y_test))\n",
        "mod_pred=mod.predict(x_test)\n",
        "print(mod_pred[:5])"
      ],
      "execution_count": null,
      "outputs": [
        {
          "output_type": "stream",
          "text": [
            "0.77\n",
            "[0 0 0 1 0]\n"
          ],
          "name": "stdout"
        }
      ]
    },
    {
      "cell_type": "code",
      "metadata": {
        "id": "Dxh7ObOipIfH"
      },
      "source": [
        "from sklearn.metrics import confusion_matrix,classification_report"
      ],
      "execution_count": null,
      "outputs": []
    },
    {
      "cell_type": "code",
      "metadata": {
        "colab": {
          "base_uri": "https://localhost:8080/"
        },
        "id": "GRUyR86VpQDm",
        "outputId": "1639f797-2e3d-400b-dc38-90a4bf6658c4"
      },
      "source": [
        "print(confusion_matrix(y_test,mod_pred))\n",
        "print(classification_report(y_test,mod_pred))"
      ],
      "execution_count": null,
      "outputs": [
        {
          "output_type": "stream",
          "text": [
            "[[63  2]\n",
            " [21 14]]\n",
            "              precision    recall  f1-score   support\n",
            "\n",
            "           0       0.75      0.97      0.85        65\n",
            "           1       0.88      0.40      0.55        35\n",
            "\n",
            "    accuracy                           0.77       100\n",
            "   macro avg       0.81      0.68      0.70       100\n",
            "weighted avg       0.79      0.77      0.74       100\n",
            "\n"
          ],
          "name": "stdout"
        }
      ]
    },
    {
      "cell_type": "markdown",
      "metadata": {
        "id": "--tb43cKpu9u"
      },
      "source": [
        "**Decision** **Tree**"
      ]
    },
    {
      "cell_type": "code",
      "metadata": {
        "colab": {
          "base_uri": "https://localhost:8080/"
        },
        "id": "foL0VaJupVcq",
        "outputId": "4852226e-27e5-454d-9a51-ce0721e26022"
      },
      "source": [
        "from sklearn.tree import DecisionTreeClassifier\n",
        "\n",
        "mod2=DecisionTreeClassifier()\n",
        "mod2.fit(x_train,y_train)"
      ],
      "execution_count": null,
      "outputs": [
        {
          "output_type": "execute_result",
          "data": {
            "text/plain": [
              "DecisionTreeClassifier(ccp_alpha=0.0, class_weight=None, criterion='gini',\n",
              "                       max_depth=None, max_features=None, max_leaf_nodes=None,\n",
              "                       min_impurity_decrease=0.0, min_impurity_split=None,\n",
              "                       min_samples_leaf=1, min_samples_split=2,\n",
              "                       min_weight_fraction_leaf=0.0, presort='deprecated',\n",
              "                       random_state=None, splitter='best')"
            ]
          },
          "metadata": {},
          "execution_count": 35
        }
      ]
    },
    {
      "cell_type": "code",
      "metadata": {
        "colab": {
          "base_uri": "https://localhost:8080/"
        },
        "id": "3kVq8toNp64A",
        "outputId": "d46eb47e-4bb8-4eed-da04-3e9c0c783810"
      },
      "source": [
        "print(mod2.score(x_test,y_test))\n",
        "mod2_pred=mod2.predict(x_test)\n",
        "print(mod2_pred[:5])"
      ],
      "execution_count": null,
      "outputs": [
        {
          "output_type": "stream",
          "text": [
            "0.83\n",
            "[1 0 0 1 1]\n"
          ],
          "name": "stdout"
        }
      ]
    },
    {
      "cell_type": "code",
      "metadata": {
        "colab": {
          "base_uri": "https://localhost:8080/"
        },
        "id": "tXCLmZ-vqBhM",
        "outputId": "b790fa60-b94d-4302-e3bc-e81ce2b8b363"
      },
      "source": [
        "print(confusion_matrix(y_test,mod2_pred))\n",
        "print(classification_report(y_test,mod2_pred))"
      ],
      "execution_count": null,
      "outputs": [
        {
          "output_type": "stream",
          "text": [
            "[[56  9]\n",
            " [ 8 27]]\n",
            "              precision    recall  f1-score   support\n",
            "\n",
            "           0       0.88      0.86      0.87        65\n",
            "           1       0.75      0.77      0.76        35\n",
            "\n",
            "    accuracy                           0.83       100\n",
            "   macro avg       0.81      0.82      0.81       100\n",
            "weighted avg       0.83      0.83      0.83       100\n",
            "\n"
          ],
          "name": "stdout"
        }
      ]
    },
    {
      "cell_type": "markdown",
      "metadata": {
        "id": "Z0eCPs-ZqMfG"
      },
      "source": [
        "**Random Forest**"
      ]
    },
    {
      "cell_type": "code",
      "metadata": {
        "colab": {
          "base_uri": "https://localhost:8080/"
        },
        "id": "lZ_69fDRqLHj",
        "outputId": "ea26da1f-8a7c-4cc3-a3b9-59b79fa27ec2"
      },
      "source": [
        "from sklearn.ensemble import RandomForestClassifier\n",
        "\n",
        "mod3=RandomForestClassifier()\n",
        "mod3.fit(x_train,y_train)"
      ],
      "execution_count": null,
      "outputs": [
        {
          "output_type": "execute_result",
          "data": {
            "text/plain": [
              "RandomForestClassifier(bootstrap=True, ccp_alpha=0.0, class_weight=None,\n",
              "                       criterion='gini', max_depth=None, max_features='auto',\n",
              "                       max_leaf_nodes=None, max_samples=None,\n",
              "                       min_impurity_decrease=0.0, min_impurity_split=None,\n",
              "                       min_samples_leaf=1, min_samples_split=2,\n",
              "                       min_weight_fraction_leaf=0.0, n_estimators=100,\n",
              "                       n_jobs=None, oob_score=False, random_state=None,\n",
              "                       verbose=0, warm_start=False)"
            ]
          },
          "metadata": {},
          "execution_count": 40
        }
      ]
    },
    {
      "cell_type": "code",
      "metadata": {
        "colab": {
          "base_uri": "https://localhost:8080/"
        },
        "id": "BPdE0g9dqXTW",
        "outputId": "3485ceb5-d604-424c-ac91-f883c47b059c"
      },
      "source": [
        "print(mod3.score(x_test,y_test))\n",
        "mod3_pred=mod3.predict(x_test)\n",
        "print(mod3_pred[:5])"
      ],
      "execution_count": null,
      "outputs": [
        {
          "output_type": "stream",
          "text": [
            "0.88\n",
            "[1 0 0 1 1]\n"
          ],
          "name": "stdout"
        }
      ]
    },
    {
      "cell_type": "code",
      "metadata": {
        "colab": {
          "base_uri": "https://localhost:8080/"
        },
        "id": "oDBv0qXNqbjM",
        "outputId": "70ee936b-f154-4bde-810c-946e3edeff1a"
      },
      "source": [
        "print(confusion_matrix(y_test,mod3_pred))\n",
        "print(classification_report(y_test,mod3_pred))"
      ],
      "execution_count": null,
      "outputs": [
        {
          "output_type": "stream",
          "text": [
            "[[58  7]\n",
            " [ 5 30]]\n",
            "              precision    recall  f1-score   support\n",
            "\n",
            "           0       0.92      0.89      0.91        65\n",
            "           1       0.81      0.86      0.83        35\n",
            "\n",
            "    accuracy                           0.88       100\n",
            "   macro avg       0.87      0.87      0.87       100\n",
            "weighted avg       0.88      0.88      0.88       100\n",
            "\n"
          ],
          "name": "stdout"
        }
      ]
    },
    {
      "cell_type": "markdown",
      "metadata": {
        "id": "34_1wh6cqiZo"
      },
      "source": [
        "**K-nearest Neighbors**"
      ]
    },
    {
      "cell_type": "code",
      "metadata": {
        "colab": {
          "base_uri": "https://localhost:8080/"
        },
        "id": "gpZyPrVQqg_t",
        "outputId": "640fd193-df28-4991-a140-276883a04748"
      },
      "source": [
        "from sklearn.neighbors import KNeighborsClassifier\n",
        "\n",
        "mod4=KNeighborsClassifier()\n",
        "mod4.fit(x_train,y_train)"
      ],
      "execution_count": null,
      "outputs": [
        {
          "output_type": "execute_result",
          "data": {
            "text/plain": [
              "KNeighborsClassifier(algorithm='auto', leaf_size=30, metric='minkowski',\n",
              "                     metric_params=None, n_jobs=None, n_neighbors=5, p=2,\n",
              "                     weights='uniform')"
            ]
          },
          "metadata": {},
          "execution_count": 43
        }
      ]
    },
    {
      "cell_type": "code",
      "metadata": {
        "colab": {
          "base_uri": "https://localhost:8080/"
        },
        "id": "Qq0tVzXYrCXE",
        "outputId": "3ed48000-7314-4d47-8650-6b5b81e12b44"
      },
      "source": [
        "print(mod4.score(x_test,y_test))\n",
        "mod4_pred=mod4.predict(x_test)\n",
        "print(mod4_pred[:5])"
      ],
      "execution_count": null,
      "outputs": [
        {
          "output_type": "stream",
          "text": [
            "0.77\n",
            "[0 0 0 1 0]\n"
          ],
          "name": "stdout"
        }
      ]
    },
    {
      "cell_type": "code",
      "metadata": {
        "colab": {
          "base_uri": "https://localhost:8080/"
        },
        "id": "6fQCa1mJq532",
        "outputId": "f9a5dd0f-8e8b-4794-90d7-8a347470e5a6"
      },
      "source": [
        "print(confusion_matrix(y_test,mod4_pred))\n",
        "print(classification_report(y_test,mod4_pred))"
      ],
      "execution_count": null,
      "outputs": [
        {
          "output_type": "stream",
          "text": [
            "[[59  6]\n",
            " [17 18]]\n",
            "              precision    recall  f1-score   support\n",
            "\n",
            "           0       0.78      0.91      0.84        65\n",
            "           1       0.75      0.51      0.61        35\n",
            "\n",
            "    accuracy                           0.77       100\n",
            "   macro avg       0.76      0.71      0.72       100\n",
            "weighted avg       0.77      0.77      0.76       100\n",
            "\n"
          ],
          "name": "stdout"
        }
      ]
    },
    {
      "cell_type": "markdown",
      "metadata": {
        "id": "NRnNgpTHrUqu"
      },
      "source": [
        "***Upscaling Using HyperPerimeteric tuning***"
      ]
    },
    {
      "cell_type": "code",
      "metadata": {
        "id": "MVbviq-vrjT2"
      },
      "source": [
        "from sklearn.model_selection import cross_val_score"
      ],
      "execution_count": null,
      "outputs": []
    },
    {
      "cell_type": "markdown",
      "metadata": {
        "id": "JtuoUYh2r5DI"
      },
      "source": [
        "**Decision Tree**"
      ]
    },
    {
      "cell_type": "code",
      "metadata": {
        "colab": {
          "base_uri": "https://localhost:8080/"
        },
        "id": "BcUqh3Pmr1-m",
        "outputId": "3163986b-3c55-41b0-9caa-3c09c62e75f6"
      },
      "source": [
        "criterion=['gini','entropy']\n",
        "\n",
        "for i in criterion:\n",
        "  score=cross_val_score(DecisionTreeClassifier(criterion=i),x,y)\n",
        "  print(f'At {i},accuracy is {score.mean()}')\n",
        "  print('At',i,\",accuracy score is\",score.mean())"
      ],
      "execution_count": null,
      "outputs": [
        {
          "output_type": "stream",
          "text": [
            "At gini,accuracy is 0.805\n",
            "At gini ,accuracy score is 0.805\n",
            "At entropy,accuracy is 0.8150000000000001\n",
            "At entropy ,accuracy score is 0.8150000000000001\n"
          ],
          "name": "stdout"
        }
      ]
    },
    {
      "cell_type": "code",
      "metadata": {
        "colab": {
          "base_uri": "https://localhost:8080/"
        },
        "id": "AWtDntY8sfd9",
        "outputId": "dade28d5-078b-4e38-d35a-da3fb6773863"
      },
      "source": [
        "for i in range(3,20):\n",
        "  score=cross_val_score(DecisionTreeClassifier(min_samples_split=i),x,y)\n",
        "  print(f'At min_samples_split {i},accuracy score is {score.mean()}')"
      ],
      "execution_count": null,
      "outputs": [
        {
          "output_type": "stream",
          "text": [
            "At min_samples_split 3,accuracy score is 0.8075000000000001\n",
            "At min_samples_split 4,accuracy score is 0.8125\n",
            "At min_samples_split 5,accuracy score is 0.8075000000000001\n",
            "At min_samples_split 6,accuracy score is 0.7949999999999999\n",
            "At min_samples_split 7,accuracy score is 0.7925000000000001\n",
            "At min_samples_split 8,accuracy score is 0.7875\n",
            "At min_samples_split 9,accuracy score is 0.79\n",
            "At min_samples_split 10,accuracy score is 0.7949999999999999\n",
            "At min_samples_split 11,accuracy score is 0.795\n",
            "At min_samples_split 12,accuracy score is 0.8\n",
            "At min_samples_split 13,accuracy score is 0.8025\n",
            "At min_samples_split 14,accuracy score is 0.7875\n",
            "At min_samples_split 15,accuracy score is 0.7725\n",
            "At min_samples_split 16,accuracy score is 0.7725\n",
            "At min_samples_split 17,accuracy score is 0.7725\n",
            "At min_samples_split 18,accuracy score is 0.795\n",
            "At min_samples_split 19,accuracy score is 0.795\n"
          ],
          "name": "stdout"
        }
      ]
    },
    {
      "cell_type": "code",
      "metadata": {
        "colab": {
          "base_uri": "https://localhost:8080/"
        },
        "id": "TBt8uFH6tSNg",
        "outputId": "e7839279-18f2-4508-9b23-52a3498397e5"
      },
      "source": [
        "for i in range(5,20):\n",
        "  score=cross_val_score(DecisionTreeClassifier(max_depth=i),x,y)\n",
        "  print(f'At max_depth {i},accuracy score is {score.mean()}')"
      ],
      "execution_count": null,
      "outputs": [
        {
          "output_type": "stream",
          "text": [
            "At max_depth 5,accuracy score is 0.8074999999999999\n",
            "At max_depth 6,accuracy score is 0.795\n",
            "At max_depth 7,accuracy score is 0.8099999999999999\n",
            "At max_depth 8,accuracy score is 0.8225\n",
            "At max_depth 9,accuracy score is 0.8\n",
            "At max_depth 10,accuracy score is 0.8125\n",
            "At max_depth 11,accuracy score is 0.8200000000000001\n",
            "At max_depth 12,accuracy score is 0.8099999999999999\n",
            "At max_depth 13,accuracy score is 0.8\n",
            "At max_depth 14,accuracy score is 0.8099999999999999\n",
            "At max_depth 15,accuracy score is 0.8174999999999999\n",
            "At max_depth 16,accuracy score is 0.8174999999999999\n",
            "At max_depth 17,accuracy score is 0.8099999999999999\n",
            "At max_depth 18,accuracy score is 0.8074999999999999\n",
            "At max_depth 19,accuracy score is 0.8025\n"
          ],
          "name": "stdout"
        }
      ]
    },
    {
      "cell_type": "code",
      "metadata": {
        "colab": {
          "base_uri": "https://localhost:8080/"
        },
        "id": "dkzt0Uuktva4",
        "outputId": "78e6bac6-176f-4a12-a11a-664361ed9771"
      },
      "source": [
        "cv1=DecisionTreeClassifier(criterion='gini',max_depth=8,min_samples_split=4)\n",
        "cv1.fit(x_train,y_train)"
      ],
      "execution_count": null,
      "outputs": [
        {
          "output_type": "execute_result",
          "data": {
            "text/plain": [
              "DecisionTreeClassifier(ccp_alpha=0.0, class_weight=None, criterion='gini',\n",
              "                       max_depth=8, max_features=None, max_leaf_nodes=None,\n",
              "                       min_impurity_decrease=0.0, min_impurity_split=None,\n",
              "                       min_samples_leaf=1, min_samples_split=4,\n",
              "                       min_weight_fraction_leaf=0.0, presort='deprecated',\n",
              "                       random_state=None, splitter='best')"
            ]
          },
          "metadata": {},
          "execution_count": 61
        }
      ]
    },
    {
      "cell_type": "code",
      "metadata": {
        "colab": {
          "base_uri": "https://localhost:8080/"
        },
        "id": "sQKkOJgfuGBP",
        "outputId": "764f7e7d-4b53-43d2-e70e-f44f125478bb"
      },
      "source": [
        "print(cv1.score(x_test,y_test))\n",
        "cv1_pred=cv1.predict(x_test)\n",
        "print(cv1_pred[:5])"
      ],
      "execution_count": null,
      "outputs": [
        {
          "output_type": "stream",
          "text": [
            "0.81\n",
            "[1 0 0 1 1]\n"
          ],
          "name": "stdout"
        }
      ]
    },
    {
      "cell_type": "code",
      "metadata": {
        "colab": {
          "base_uri": "https://localhost:8080/"
        },
        "id": "DQW5HhgyuTqp",
        "outputId": "c7860bb2-6e82-41aa-b90c-d470678bafc7"
      },
      "source": [
        "print(confusion_matrix(y_test,cv1_pred))\n",
        "print(classification_report(y_test,cv1_pred))"
      ],
      "execution_count": null,
      "outputs": [
        {
          "output_type": "stream",
          "text": [
            "[[55 10]\n",
            " [ 9 26]]\n",
            "              precision    recall  f1-score   support\n",
            "\n",
            "           0       0.86      0.85      0.85        65\n",
            "           1       0.72      0.74      0.73        35\n",
            "\n",
            "    accuracy                           0.81       100\n",
            "   macro avg       0.79      0.79      0.79       100\n",
            "weighted avg       0.81      0.81      0.81       100\n",
            "\n"
          ],
          "name": "stdout"
        }
      ]
    },
    {
      "cell_type": "markdown",
      "metadata": {
        "id": "IAC37hR0utLG"
      },
      "source": [
        "**Random Forest**"
      ]
    },
    {
      "cell_type": "code",
      "metadata": {
        "colab": {
          "base_uri": "https://localhost:8080/"
        },
        "id": "KkHwZolHuq8m",
        "outputId": "6e779f8b-1321-4294-cf0e-b2506103fe6d"
      },
      "source": [
        "for i in range(10,100,5):\n",
        "  n=cross_val_score(RandomForestClassifier(n_estimators=i),x,y)\n",
        "  print(f'At n equals to {i},accuracy score is {score.mean()}')"
      ],
      "execution_count": null,
      "outputs": [
        {
          "output_type": "stream",
          "text": [
            "At n equals to 10,accuracy score is 0.795\n",
            "At n equals to 15,accuracy score is 0.795\n",
            "At n equals to 20,accuracy score is 0.795\n",
            "At n equals to 25,accuracy score is 0.795\n",
            "At n equals to 30,accuracy score is 0.795\n",
            "At n equals to 35,accuracy score is 0.795\n",
            "At n equals to 40,accuracy score is 0.795\n",
            "At n equals to 45,accuracy score is 0.795\n",
            "At n equals to 50,accuracy score is 0.795\n",
            "At n equals to 55,accuracy score is 0.795\n",
            "At n equals to 60,accuracy score is 0.795\n",
            "At n equals to 65,accuracy score is 0.795\n",
            "At n equals to 70,accuracy score is 0.795\n",
            "At n equals to 75,accuracy score is 0.795\n",
            "At n equals to 80,accuracy score is 0.795\n",
            "At n equals to 85,accuracy score is 0.795\n",
            "At n equals to 90,accuracy score is 0.795\n",
            "At n equals to 95,accuracy score is 0.795\n"
          ],
          "name": "stdout"
        }
      ]
    },
    {
      "cell_type": "code",
      "metadata": {
        "colab": {
          "base_uri": "https://localhost:8080/"
        },
        "id": "K00Fw3ObvaXX",
        "outputId": "aac6b1c9-56e1-4a62-ba4c-c6e30a778851"
      },
      "source": [
        "for i  in range (5,20):\n",
        "  md=cross_val_score(RandomForestClassifier(max_depth=i),x,y)\n",
        "  mss=cross_val_score(RandomForestClassifier(min_samples_split=i),x,y)\n",
        "  print(f'At max_depth {i},accuracy score is {md.mean()}')\n",
        "  print(f'At min_samples_split {i},accuracy score is {mss.mean()}')"
      ],
      "execution_count": null,
      "outputs": [
        {
          "output_type": "stream",
          "text": [
            "At max_depth 5,accuracy score is 0.875\n",
            "At min_samples_split 5,accuracy score is 0.8724999999999999\n",
            "At max_depth 6,accuracy score is 0.8749999999999998\n",
            "At min_samples_split 6,accuracy score is 0.8725000000000002\n",
            "At max_depth 7,accuracy score is 0.8674999999999999\n",
            "At min_samples_split 7,accuracy score is 0.875\n",
            "At max_depth 8,accuracy score is 0.8674999999999999\n",
            "At min_samples_split 8,accuracy score is 0.8724999999999999\n",
            "At max_depth 9,accuracy score is 0.8675\n",
            "At min_samples_split 9,accuracy score is 0.875\n",
            "At max_depth 10,accuracy score is 0.8724999999999999\n",
            "At min_samples_split 10,accuracy score is 0.8775000000000001\n",
            "At max_depth 11,accuracy score is 0.8699999999999999\n",
            "At min_samples_split 11,accuracy score is 0.8825\n",
            "At max_depth 12,accuracy score is 0.8699999999999999\n",
            "At min_samples_split 12,accuracy score is 0.8774999999999998\n",
            "At max_depth 13,accuracy score is 0.8649999999999999\n",
            "At min_samples_split 13,accuracy score is 0.8774999999999998\n",
            "At max_depth 14,accuracy score is 0.8675\n",
            "At min_samples_split 14,accuracy score is 0.875\n",
            "At max_depth 15,accuracy score is 0.8675\n",
            "At min_samples_split 15,accuracy score is 0.8799999999999999\n",
            "At max_depth 16,accuracy score is 0.865\n",
            "At min_samples_split 16,accuracy score is 0.8775000000000001\n",
            "At max_depth 17,accuracy score is 0.8724999999999999\n",
            "At min_samples_split 17,accuracy score is 0.8774999999999998\n",
            "At max_depth 18,accuracy score is 0.8700000000000001\n",
            "At min_samples_split 18,accuracy score is 0.8800000000000001\n",
            "At max_depth 19,accuracy score is 0.8649999999999999\n",
            "At min_samples_split 19,accuracy score is 0.885\n"
          ],
          "name": "stdout"
        }
      ]
    },
    {
      "cell_type": "code",
      "metadata": {
        "colab": {
          "base_uri": "https://localhost:8080/"
        },
        "id": "-BfxZUuUwE0L",
        "outputId": "e4699b85-5da6-4e52-9370-8b10a60ac516"
      },
      "source": [
        "bootstrap=[True,False]\n",
        "\n",
        "for i in bootstrap:\n",
        "  score=cross_val_score(RandomForestClassifier(bootstrap=i),x,y)\n",
        "  print('At',i,'accuracy score is',score.mean())"
      ],
      "execution_count": null,
      "outputs": [
        {
          "output_type": "stream",
          "text": [
            "At True accuracy score is 0.8724999999999999\n",
            "At False accuracy score is 0.8549999999999999\n"
          ],
          "name": "stdout"
        }
      ]
    },
    {
      "cell_type": "code",
      "metadata": {
        "colab": {
          "base_uri": "https://localhost:8080/"
        },
        "id": "_WBalS2kw28B",
        "outputId": "c10e355b-263e-42f5-e004-3aa13c94e725"
      },
      "source": [
        "cv2=RandomForestClassifier(criterion='gini',n_estimators=70,max_depth=5,min_samples_split=19,bootstrap=True)\n",
        "cv2.fit(x_train,y_train)"
      ],
      "execution_count": null,
      "outputs": [
        {
          "output_type": "execute_result",
          "data": {
            "text/plain": [
              "RandomForestClassifier(bootstrap=True, ccp_alpha=0.0, class_weight=None,\n",
              "                       criterion='gini', max_depth=5, max_features='auto',\n",
              "                       max_leaf_nodes=None, max_samples=None,\n",
              "                       min_impurity_decrease=0.0, min_impurity_split=None,\n",
              "                       min_samples_leaf=1, min_samples_split=19,\n",
              "                       min_weight_fraction_leaf=0.0, n_estimators=70,\n",
              "                       n_jobs=None, oob_score=False, random_state=None,\n",
              "                       verbose=0, warm_start=False)"
            ]
          },
          "metadata": {},
          "execution_count": 72
        }
      ]
    },
    {
      "cell_type": "code",
      "metadata": {
        "colab": {
          "base_uri": "https://localhost:8080/"
        },
        "id": "0lpTkMOQxWOQ",
        "outputId": "82d394a6-21c4-4cb7-8b3e-ba4430fbca9e"
      },
      "source": [
        "print(cv2.score(x_test,y_test))\n",
        "cv2_pred=cv2.predict(x_test)\n",
        "print(cv2_pred[:5])"
      ],
      "execution_count": null,
      "outputs": [
        {
          "output_type": "stream",
          "text": [
            "0.88\n",
            "[1 0 0 1 1]\n"
          ],
          "name": "stdout"
        }
      ]
    },
    {
      "cell_type": "code",
      "metadata": {
        "colab": {
          "base_uri": "https://localhost:8080/"
        },
        "id": "21MLKKbSxjxV",
        "outputId": "7cbf1173-6beb-4f2d-8ac3-e565b75125df"
      },
      "source": [
        "print(confusion_matrix(y_test,cv2_pred))\n",
        "print(classification_report(y_test,cv2_pred))"
      ],
      "execution_count": null,
      "outputs": [
        {
          "output_type": "stream",
          "text": [
            "[[58  7]\n",
            " [ 5 30]]\n",
            "              precision    recall  f1-score   support\n",
            "\n",
            "           0       0.92      0.89      0.91        65\n",
            "           1       0.81      0.86      0.83        35\n",
            "\n",
            "    accuracy                           0.88       100\n",
            "   macro avg       0.87      0.87      0.87       100\n",
            "weighted avg       0.88      0.88      0.88       100\n",
            "\n"
          ],
          "name": "stdout"
        }
      ]
    },
    {
      "cell_type": "markdown",
      "metadata": {
        "id": "DhBHHEgMxrtR"
      },
      "source": [
        "**K-nearest Neighbors**"
      ]
    },
    {
      "cell_type": "code",
      "metadata": {
        "colab": {
          "base_uri": "https://localhost:8080/"
        },
        "id": "e3UCl9XJxqu5",
        "outputId": "a8e40fe7-509c-419e-ecc7-b799a5196a38"
      },
      "source": [
        "for i in range(3,20):\n",
        "  score=cross_val_score(KNeighborsClassifier(n_neighbors=i),x,y)\n",
        "  print(f'At n {i},accuracy score is {score.mean()}')"
      ],
      "execution_count": null,
      "outputs": [
        {
          "output_type": "stream",
          "text": [
            "At n 3,accuracy score is 0.7074999999999999\n",
            "At n 4,accuracy score is 0.7275\n",
            "At n 5,accuracy score is 0.7275\n",
            "At n 6,accuracy score is 0.7475\n",
            "At n 7,accuracy score is 0.74\n",
            "At n 8,accuracy score is 0.755\n",
            "At n 9,accuracy score is 0.755\n",
            "At n 10,accuracy score is 0.755\n",
            "At n 11,accuracy score is 0.75\n",
            "At n 12,accuracy score is 0.7525\n",
            "At n 13,accuracy score is 0.7525000000000001\n",
            "At n 14,accuracy score is 0.7424999999999999\n",
            "At n 15,accuracy score is 0.7424999999999999\n",
            "At n 16,accuracy score is 0.7450000000000001\n",
            "At n 17,accuracy score is 0.7425\n",
            "At n 18,accuracy score is 0.7450000000000001\n",
            "At n 19,accuracy score is 0.7474999999999999\n"
          ],
          "name": "stdout"
        }
      ]
    },
    {
      "cell_type": "code",
      "metadata": {
        "colab": {
          "base_uri": "https://localhost:8080/"
        },
        "id": "X7sURfkXyFNA",
        "outputId": "c0cbba55-5aaf-480c-a7e0-a9a098deb5f2"
      },
      "source": [
        "cv3=KNeighborsClassifier(n_neighbors=10)\n",
        "cv3.fit(x_train,y_train)"
      ],
      "execution_count": null,
      "outputs": [
        {
          "output_type": "execute_result",
          "data": {
            "text/plain": [
              "KNeighborsClassifier(algorithm='auto', leaf_size=30, metric='minkowski',\n",
              "                     metric_params=None, n_jobs=None, n_neighbors=10, p=2,\n",
              "                     weights='uniform')"
            ]
          },
          "metadata": {},
          "execution_count": 76
        }
      ]
    },
    {
      "cell_type": "code",
      "metadata": {
        "colab": {
          "base_uri": "https://localhost:8080/"
        },
        "id": "7XQfd1SbyPrw",
        "outputId": "7b298da1-2934-4cb1-83b9-6ed6ef60b185"
      },
      "source": [
        "print(cv3.score(x_test,y_test))\n",
        "cv3_pred=cv3.predict(x_test)\n",
        "print(cv3_pred[:5])"
      ],
      "execution_count": null,
      "outputs": [
        {
          "output_type": "stream",
          "text": [
            "0.76\n",
            "[0 0 0 1 0]\n"
          ],
          "name": "stdout"
        }
      ]
    },
    {
      "cell_type": "code",
      "metadata": {
        "colab": {
          "base_uri": "https://localhost:8080/"
        },
        "id": "sMHHMg4fyUzh",
        "outputId": "ac652fb6-df34-4932-a65a-30ef37d7477a"
      },
      "source": [
        "print(confusion_matrix(y_test,cv3_pred))\n",
        "print(classification_report(y_test,cv3_pred))"
      ],
      "execution_count": null,
      "outputs": [
        {
          "output_type": "stream",
          "text": [
            "[[62  3]\n",
            " [21 14]]\n",
            "              precision    recall  f1-score   support\n",
            "\n",
            "           0       0.75      0.95      0.84        65\n",
            "           1       0.82      0.40      0.54        35\n",
            "\n",
            "    accuracy                           0.76       100\n",
            "   macro avg       0.79      0.68      0.69       100\n",
            "weighted avg       0.77      0.76      0.73       100\n",
            "\n"
          ],
          "name": "stdout"
        }
      ]
    }
  ]
}